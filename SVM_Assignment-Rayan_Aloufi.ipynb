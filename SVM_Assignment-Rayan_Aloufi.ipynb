{
 "cells": [
  {
   "cell_type": "markdown",
   "id": "f64fe8f3",
   "metadata": {},
   "source": [
    "# Tweet classification: Trump vs. Trudeau"
   ]
  },
  {
   "cell_type": "markdown",
   "id": "9e7fe2f9",
   "metadata": {},
   "source": [
    "# 1. Import the libraries\n",
    "\n",
    "- Note : use a specific random state for your solution."
   ]
  },
  {
   "cell_type": "code",
   "execution_count": 45,
   "id": "5ded69b7",
   "metadata": {},
   "outputs": [],
   "source": [
    "import pandas as pd\n",
    "import numpy as np\n",
    "import matplotlib.pyplot as plt\n",
    "import seaborn as sns\n",
    "import warnings\n",
    "warnings.filterwarnings(\"ignore\")\n",
    "from sklearn.model_selection import train_test_split\n",
    "from sklearn.linear_model import LogisticRegression\n",
    "from sklearn.metrics import classification_report, confusion_matrix, accuracy_score\n",
    "from sklearn.preprocessing import StandardScaler\n",
    "from sklearn import svm\n",
    "from sklearn.feature_extraction.text import CountVectorizer, TfidfVectorizer"
   ]
  },
  {
   "cell_type": "markdown",
   "id": "0098afc7",
   "metadata": {},
   "source": [
    "# 2. Read the dataset"
   ]
  },
  {
   "cell_type": "code",
   "execution_count": 22,
   "id": "b82cb339",
   "metadata": {},
   "outputs": [],
   "source": [
    "df = pd.read_csv('tweets.csv')"
   ]
  },
  {
   "cell_type": "code",
   "execution_count": 23,
   "id": "2952c000",
   "metadata": {},
   "outputs": [
    {
     "data": {
      "text/html": [
       "<div>\n",
       "<style scoped>\n",
       "    .dataframe tbody tr th:only-of-type {\n",
       "        vertical-align: middle;\n",
       "    }\n",
       "\n",
       "    .dataframe tbody tr th {\n",
       "        vertical-align: top;\n",
       "    }\n",
       "\n",
       "    .dataframe thead th {\n",
       "        text-align: right;\n",
       "    }\n",
       "</style>\n",
       "<table border=\"1\" class=\"dataframe\">\n",
       "  <thead>\n",
       "    <tr style=\"text-align: right;\">\n",
       "      <th></th>\n",
       "      <th>id</th>\n",
       "      <th>author</th>\n",
       "      <th>status</th>\n",
       "    </tr>\n",
       "  </thead>\n",
       "  <tbody>\n",
       "    <tr>\n",
       "      <th>0</th>\n",
       "      <td>1</td>\n",
       "      <td>Donald J. Trump</td>\n",
       "      <td>I will be making a major statement from the @W...</td>\n",
       "    </tr>\n",
       "    <tr>\n",
       "      <th>1</th>\n",
       "      <td>2</td>\n",
       "      <td>Donald J. Trump</td>\n",
       "      <td>Just arrived at #ASEAN50 in the Philippines fo...</td>\n",
       "    </tr>\n",
       "    <tr>\n",
       "      <th>2</th>\n",
       "      <td>3</td>\n",
       "      <td>Donald J. Trump</td>\n",
       "      <td>After my tour of Asia, all Countries dealing w...</td>\n",
       "    </tr>\n",
       "    <tr>\n",
       "      <th>3</th>\n",
       "      <td>4</td>\n",
       "      <td>Donald J. Trump</td>\n",
       "      <td>Great to see @RandPaul looking well and back o...</td>\n",
       "    </tr>\n",
       "    <tr>\n",
       "      <th>4</th>\n",
       "      <td>5</td>\n",
       "      <td>Donald J. Trump</td>\n",
       "      <td>Excited to be heading home to see the House pa...</td>\n",
       "    </tr>\n",
       "    <tr>\n",
       "      <th>...</th>\n",
       "      <td>...</td>\n",
       "      <td>...</td>\n",
       "      <td>...</td>\n",
       "    </tr>\n",
       "    <tr>\n",
       "      <th>395</th>\n",
       "      <td>396</td>\n",
       "      <td>Justin Trudeau</td>\n",
       "      <td>RT @googlecanada: Watch tmw: @JustinTrudeau di...</td>\n",
       "    </tr>\n",
       "    <tr>\n",
       "      <th>396</th>\n",
       "      <td>397</td>\n",
       "      <td>Justin Trudeau</td>\n",
       "      <td>Today in Ottawa, I met with the Modern Treaty ...</td>\n",
       "    </tr>\n",
       "    <tr>\n",
       "      <th>397</th>\n",
       "      <td>398</td>\n",
       "      <td>Justin Trudeau</td>\n",
       "      <td>Voici le sommaire de ma rencontre avec les Pre...</td>\n",
       "    </tr>\n",
       "    <tr>\n",
       "      <th>398</th>\n",
       "      <td>399</td>\n",
       "      <td>Justin Trudeau</td>\n",
       "      <td>RT @VeteransENG_CA: #Day1 of 11 Days of Rememb...</td>\n",
       "    </tr>\n",
       "    <tr>\n",
       "      <th>399</th>\n",
       "      <td>400</td>\n",
       "      <td>Justin Trudeau</td>\n",
       "      <td>RT @VeteransFR_CA: #Jour1 des 11 jours pour se...</td>\n",
       "    </tr>\n",
       "  </tbody>\n",
       "</table>\n",
       "<p>400 rows × 3 columns</p>\n",
       "</div>"
      ],
      "text/plain": [
       "      id           author                                             status\n",
       "0      1  Donald J. Trump  I will be making a major statement from the @W...\n",
       "1      2  Donald J. Trump  Just arrived at #ASEAN50 in the Philippines fo...\n",
       "2      3  Donald J. Trump  After my tour of Asia, all Countries dealing w...\n",
       "3      4  Donald J. Trump  Great to see @RandPaul looking well and back o...\n",
       "4      5  Donald J. Trump  Excited to be heading home to see the House pa...\n",
       "..   ...              ...                                                ...\n",
       "395  396   Justin Trudeau  RT @googlecanada: Watch tmw: @JustinTrudeau di...\n",
       "396  397   Justin Trudeau  Today in Ottawa, I met with the Modern Treaty ...\n",
       "397  398   Justin Trudeau  Voici le sommaire de ma rencontre avec les Pre...\n",
       "398  399   Justin Trudeau  RT @VeteransENG_CA: #Day1 of 11 Days of Rememb...\n",
       "399  400   Justin Trudeau  RT @VeteransFR_CA: #Jour1 des 11 jours pour se...\n",
       "\n",
       "[400 rows x 3 columns]"
      ]
     },
     "execution_count": 23,
     "metadata": {},
     "output_type": "execute_result"
    }
   ],
   "source": [
    "df"
   ]
  },
  {
   "cell_type": "code",
   "execution_count": 24,
   "id": "ac4508a5",
   "metadata": {},
   "outputs": [
    {
     "data": {
      "text/plain": [
       "array(['Donald J. Trump', 'Justin Trudeau'], dtype=object)"
      ]
     },
     "execution_count": 24,
     "metadata": {},
     "output_type": "execute_result"
    }
   ],
   "source": [
    "df.author.unique()"
   ]
  },
  {
   "cell_type": "markdown",
   "id": "973ca1dd",
   "metadata": {},
   "source": [
    "# 3. Split the dataset into X and y"
   ]
  },
  {
   "cell_type": "code",
   "execution_count": 28,
   "id": "928a4f59",
   "metadata": {},
   "outputs": [],
   "source": [
    "X = df.drop(['author'], axis=1)\n",
    "y = df['author']"
   ]
  },
  {
   "cell_type": "markdown",
   "id": "0555d930",
   "metadata": {},
   "source": [
    "# 4. Split the dataset into training set and testing set"
   ]
  },
  {
   "cell_type": "code",
   "execution_count": 29,
   "id": "6e46c11e",
   "metadata": {},
   "outputs": [],
   "source": [
    "X_train, X_test, y_train, y_test = train_test_split(X, y, random_state=0)"
   ]
  },
  {
   "cell_type": "markdown",
   "id": "19af5bd9",
   "metadata": {},
   "source": [
    "# 5. Vectorize the tweets\n",
    "\n",
    "- Note : Read about CountVectorizer and TfidfVectorizer methods and use them in training and testing dataset."
   ]
  },
  {
   "cell_type": "code",
   "execution_count": 31,
   "id": "08cd6b10",
   "metadata": {},
   "outputs": [],
   "source": [
    "count_vectorizer = CountVectorizer()\n",
    "tfidf_vectorizer = TfidfVectorizer()"
   ]
  },
  {
   "cell_type": "code",
   "execution_count": 33,
   "id": "4cdc5e1f",
   "metadata": {},
   "outputs": [],
   "source": [
    "train_tweets = X_train['status'].tolist()\n",
    "test_tweets = X_test['status'].tolist()"
   ]
  },
  {
   "cell_type": "code",
   "execution_count": 34,
   "id": "b7a658b3",
   "metadata": {},
   "outputs": [],
   "source": [
    "X_train_count = count_vectorizer.fit_transform(train_tweets)\n",
    "X_train_tfidf = tfidf_vectorizer.fit_transform(train_tweets)"
   ]
  },
  {
   "cell_type": "code",
   "execution_count": 35,
   "id": "3072b302",
   "metadata": {},
   "outputs": [],
   "source": [
    "X_test_count = count_vectorizer.transform(test_tweets)\n",
    "X_test_tfidf = tfidf_vectorizer.transform(test_tweets)"
   ]
  },
  {
   "cell_type": "markdown",
   "id": "be72e926",
   "metadata": {},
   "source": [
    "# 6. Train a Logistic Regression model\n",
    "\n",
    "- Build and train two models, the first by using the tfidf data, and the second by using count vectorize data."
   ]
  },
  {
   "cell_type": "code",
   "execution_count": 36,
   "id": "5e1cccc1",
   "metadata": {},
   "outputs": [],
   "source": [
    "logreg_tfidf = LogisticRegression()\n",
    "logreg_count = LogisticRegression()"
   ]
  },
  {
   "cell_type": "code",
   "execution_count": 37,
   "id": "ad7820b0",
   "metadata": {},
   "outputs": [
    {
     "data": {
      "text/html": [
       "<style>#sk-container-id-1 {color: black;background-color: white;}#sk-container-id-1 pre{padding: 0;}#sk-container-id-1 div.sk-toggleable {background-color: white;}#sk-container-id-1 label.sk-toggleable__label {cursor: pointer;display: block;width: 100%;margin-bottom: 0;padding: 0.3em;box-sizing: border-box;text-align: center;}#sk-container-id-1 label.sk-toggleable__label-arrow:before {content: \"▸\";float: left;margin-right: 0.25em;color: #696969;}#sk-container-id-1 label.sk-toggleable__label-arrow:hover:before {color: black;}#sk-container-id-1 div.sk-estimator:hover label.sk-toggleable__label-arrow:before {color: black;}#sk-container-id-1 div.sk-toggleable__content {max-height: 0;max-width: 0;overflow: hidden;text-align: left;background-color: #f0f8ff;}#sk-container-id-1 div.sk-toggleable__content pre {margin: 0.2em;color: black;border-radius: 0.25em;background-color: #f0f8ff;}#sk-container-id-1 input.sk-toggleable__control:checked~div.sk-toggleable__content {max-height: 200px;max-width: 100%;overflow: auto;}#sk-container-id-1 input.sk-toggleable__control:checked~label.sk-toggleable__label-arrow:before {content: \"▾\";}#sk-container-id-1 div.sk-estimator input.sk-toggleable__control:checked~label.sk-toggleable__label {background-color: #d4ebff;}#sk-container-id-1 div.sk-label input.sk-toggleable__control:checked~label.sk-toggleable__label {background-color: #d4ebff;}#sk-container-id-1 input.sk-hidden--visually {border: 0;clip: rect(1px 1px 1px 1px);clip: rect(1px, 1px, 1px, 1px);height: 1px;margin: -1px;overflow: hidden;padding: 0;position: absolute;width: 1px;}#sk-container-id-1 div.sk-estimator {font-family: monospace;background-color: #f0f8ff;border: 1px dotted black;border-radius: 0.25em;box-sizing: border-box;margin-bottom: 0.5em;}#sk-container-id-1 div.sk-estimator:hover {background-color: #d4ebff;}#sk-container-id-1 div.sk-parallel-item::after {content: \"\";width: 100%;border-bottom: 1px solid gray;flex-grow: 1;}#sk-container-id-1 div.sk-label:hover label.sk-toggleable__label {background-color: #d4ebff;}#sk-container-id-1 div.sk-serial::before {content: \"\";position: absolute;border-left: 1px solid gray;box-sizing: border-box;top: 0;bottom: 0;left: 50%;z-index: 0;}#sk-container-id-1 div.sk-serial {display: flex;flex-direction: column;align-items: center;background-color: white;padding-right: 0.2em;padding-left: 0.2em;position: relative;}#sk-container-id-1 div.sk-item {position: relative;z-index: 1;}#sk-container-id-1 div.sk-parallel {display: flex;align-items: stretch;justify-content: center;background-color: white;position: relative;}#sk-container-id-1 div.sk-item::before, #sk-container-id-1 div.sk-parallel-item::before {content: \"\";position: absolute;border-left: 1px solid gray;box-sizing: border-box;top: 0;bottom: 0;left: 50%;z-index: -1;}#sk-container-id-1 div.sk-parallel-item {display: flex;flex-direction: column;z-index: 1;position: relative;background-color: white;}#sk-container-id-1 div.sk-parallel-item:first-child::after {align-self: flex-end;width: 50%;}#sk-container-id-1 div.sk-parallel-item:last-child::after {align-self: flex-start;width: 50%;}#sk-container-id-1 div.sk-parallel-item:only-child::after {width: 0;}#sk-container-id-1 div.sk-dashed-wrapped {border: 1px dashed gray;margin: 0 0.4em 0.5em 0.4em;box-sizing: border-box;padding-bottom: 0.4em;background-color: white;}#sk-container-id-1 div.sk-label label {font-family: monospace;font-weight: bold;display: inline-block;line-height: 1.2em;}#sk-container-id-1 div.sk-label-container {text-align: center;}#sk-container-id-1 div.sk-container {/* jupyter's `normalize.less` sets `[hidden] { display: none; }` but bootstrap.min.css set `[hidden] { display: none !important; }` so we also need the `!important` here to be able to override the default hidden behavior on the sphinx rendered scikit-learn.org. See: https://github.com/scikit-learn/scikit-learn/issues/21755 */display: inline-block !important;position: relative;}#sk-container-id-1 div.sk-text-repr-fallback {display: none;}</style><div id=\"sk-container-id-1\" class=\"sk-top-container\"><div class=\"sk-text-repr-fallback\"><pre>LogisticRegression()</pre><b>In a Jupyter environment, please rerun this cell to show the HTML representation or trust the notebook. <br />On GitHub, the HTML representation is unable to render, please try loading this page with nbviewer.org.</b></div><div class=\"sk-container\" hidden><div class=\"sk-item\"><div class=\"sk-estimator sk-toggleable\"><input class=\"sk-toggleable__control sk-hidden--visually\" id=\"sk-estimator-id-1\" type=\"checkbox\" checked><label for=\"sk-estimator-id-1\" class=\"sk-toggleable__label sk-toggleable__label-arrow\">LogisticRegression</label><div class=\"sk-toggleable__content\"><pre>LogisticRegression()</pre></div></div></div></div></div>"
      ],
      "text/plain": [
       "LogisticRegression()"
      ]
     },
     "execution_count": 37,
     "metadata": {},
     "output_type": "execute_result"
    }
   ],
   "source": [
    "logreg_tfidf.fit(X_train_tfidf, y_train)\n",
    "logreg_count.fit(X_train_count, y_train)"
   ]
  },
  {
   "cell_type": "code",
   "execution_count": 38,
   "id": "dba254a4",
   "metadata": {},
   "outputs": [],
   "source": [
    "y_pred_tfidf = logreg_tfidf.predict(X_test_tfidf)\n",
    "y_pred_count = logreg_count.predict(X_test_count)"
   ]
  },
  {
   "cell_type": "markdown",
   "id": "3098f445",
   "metadata": {},
   "source": [
    "# 7. Train a SVM model\n",
    "\n",
    "- Build and train two models, the first by using the tfidf data, and the second by using count vectorize data."
   ]
  },
  {
   "cell_type": "code",
   "execution_count": 40,
   "id": "e0b7d25a",
   "metadata": {},
   "outputs": [],
   "source": [
    "svm_tfidf = svm.SVC()\n",
    "svm_count = svm.SVC()"
   ]
  },
  {
   "cell_type": "code",
   "execution_count": 42,
   "id": "4b57cac1",
   "metadata": {},
   "outputs": [
    {
     "data": {
      "text/html": [
       "<style>#sk-container-id-3 {color: black;background-color: white;}#sk-container-id-3 pre{padding: 0;}#sk-container-id-3 div.sk-toggleable {background-color: white;}#sk-container-id-3 label.sk-toggleable__label {cursor: pointer;display: block;width: 100%;margin-bottom: 0;padding: 0.3em;box-sizing: border-box;text-align: center;}#sk-container-id-3 label.sk-toggleable__label-arrow:before {content: \"▸\";float: left;margin-right: 0.25em;color: #696969;}#sk-container-id-3 label.sk-toggleable__label-arrow:hover:before {color: black;}#sk-container-id-3 div.sk-estimator:hover label.sk-toggleable__label-arrow:before {color: black;}#sk-container-id-3 div.sk-toggleable__content {max-height: 0;max-width: 0;overflow: hidden;text-align: left;background-color: #f0f8ff;}#sk-container-id-3 div.sk-toggleable__content pre {margin: 0.2em;color: black;border-radius: 0.25em;background-color: #f0f8ff;}#sk-container-id-3 input.sk-toggleable__control:checked~div.sk-toggleable__content {max-height: 200px;max-width: 100%;overflow: auto;}#sk-container-id-3 input.sk-toggleable__control:checked~label.sk-toggleable__label-arrow:before {content: \"▾\";}#sk-container-id-3 div.sk-estimator input.sk-toggleable__control:checked~label.sk-toggleable__label {background-color: #d4ebff;}#sk-container-id-3 div.sk-label input.sk-toggleable__control:checked~label.sk-toggleable__label {background-color: #d4ebff;}#sk-container-id-3 input.sk-hidden--visually {border: 0;clip: rect(1px 1px 1px 1px);clip: rect(1px, 1px, 1px, 1px);height: 1px;margin: -1px;overflow: hidden;padding: 0;position: absolute;width: 1px;}#sk-container-id-3 div.sk-estimator {font-family: monospace;background-color: #f0f8ff;border: 1px dotted black;border-radius: 0.25em;box-sizing: border-box;margin-bottom: 0.5em;}#sk-container-id-3 div.sk-estimator:hover {background-color: #d4ebff;}#sk-container-id-3 div.sk-parallel-item::after {content: \"\";width: 100%;border-bottom: 1px solid gray;flex-grow: 1;}#sk-container-id-3 div.sk-label:hover label.sk-toggleable__label {background-color: #d4ebff;}#sk-container-id-3 div.sk-serial::before {content: \"\";position: absolute;border-left: 1px solid gray;box-sizing: border-box;top: 0;bottom: 0;left: 50%;z-index: 0;}#sk-container-id-3 div.sk-serial {display: flex;flex-direction: column;align-items: center;background-color: white;padding-right: 0.2em;padding-left: 0.2em;position: relative;}#sk-container-id-3 div.sk-item {position: relative;z-index: 1;}#sk-container-id-3 div.sk-parallel {display: flex;align-items: stretch;justify-content: center;background-color: white;position: relative;}#sk-container-id-3 div.sk-item::before, #sk-container-id-3 div.sk-parallel-item::before {content: \"\";position: absolute;border-left: 1px solid gray;box-sizing: border-box;top: 0;bottom: 0;left: 50%;z-index: -1;}#sk-container-id-3 div.sk-parallel-item {display: flex;flex-direction: column;z-index: 1;position: relative;background-color: white;}#sk-container-id-3 div.sk-parallel-item:first-child::after {align-self: flex-end;width: 50%;}#sk-container-id-3 div.sk-parallel-item:last-child::after {align-self: flex-start;width: 50%;}#sk-container-id-3 div.sk-parallel-item:only-child::after {width: 0;}#sk-container-id-3 div.sk-dashed-wrapped {border: 1px dashed gray;margin: 0 0.4em 0.5em 0.4em;box-sizing: border-box;padding-bottom: 0.4em;background-color: white;}#sk-container-id-3 div.sk-label label {font-family: monospace;font-weight: bold;display: inline-block;line-height: 1.2em;}#sk-container-id-3 div.sk-label-container {text-align: center;}#sk-container-id-3 div.sk-container {/* jupyter's `normalize.less` sets `[hidden] { display: none; }` but bootstrap.min.css set `[hidden] { display: none !important; }` so we also need the `!important` here to be able to override the default hidden behavior on the sphinx rendered scikit-learn.org. See: https://github.com/scikit-learn/scikit-learn/issues/21755 */display: inline-block !important;position: relative;}#sk-container-id-3 div.sk-text-repr-fallback {display: none;}</style><div id=\"sk-container-id-3\" class=\"sk-top-container\"><div class=\"sk-text-repr-fallback\"><pre>SVC()</pre><b>In a Jupyter environment, please rerun this cell to show the HTML representation or trust the notebook. <br />On GitHub, the HTML representation is unable to render, please try loading this page with nbviewer.org.</b></div><div class=\"sk-container\" hidden><div class=\"sk-item\"><div class=\"sk-estimator sk-toggleable\"><input class=\"sk-toggleable__control sk-hidden--visually\" id=\"sk-estimator-id-3\" type=\"checkbox\" checked><label for=\"sk-estimator-id-3\" class=\"sk-toggleable__label sk-toggleable__label-arrow\">SVC</label><div class=\"sk-toggleable__content\"><pre>SVC()</pre></div></div></div></div></div>"
      ],
      "text/plain": [
       "SVC()"
      ]
     },
     "execution_count": 42,
     "metadata": {},
     "output_type": "execute_result"
    }
   ],
   "source": [
    "svm_tfidf.fit(X_train_tfidf, y_train)\n",
    "svm_count.fit(X_train_count, y_train)"
   ]
  },
  {
   "cell_type": "code",
   "execution_count": 43,
   "id": "2a8cedb1",
   "metadata": {},
   "outputs": [],
   "source": [
    "y_pred_tfidf = svm_tfidf.predict(X_test_tfidf)\n",
    "y_pred_count = svm_count.predict(X_test_count)"
   ]
  },
  {
   "cell_type": "markdown",
   "id": "2d7231bd",
   "metadata": {},
   "source": [
    "# 8. Make a prediction and calculate the score for both Logistic Regression and SVM"
   ]
  },
  {
   "cell_type": "code",
   "execution_count": 46,
   "id": "d96a2080",
   "metadata": {},
   "outputs": [],
   "source": [
    "y_pred_tfidf_logreg = logreg_tfidf.predict(X_test_tfidf)\n",
    "y_pred_count_logreg = logreg_count.predict(X_test_count)\n",
    "\n",
    "accuracy_tfidf_logreg = accuracy_score(y_test, y_pred_tfidf_logreg)\n",
    "accuracy_count_logreg = accuracy_score(y_test, y_pred_count_logreg)"
   ]
  },
  {
   "cell_type": "code",
   "execution_count": 47,
   "id": "657e59d5",
   "metadata": {
    "scrolled": true
   },
   "outputs": [
    {
     "name": "stdout",
     "output_type": "stream",
     "text": [
      "Logistic Regression - Accuracy with TF-IDF: 0.87\n",
      "Logistic Regression - Accuracy with Count Vectorized data: 0.88\n"
     ]
    }
   ],
   "source": [
    "print(\"Logistic Regression - Accuracy with TF-IDF:\", accuracy_tfidf_logreg)\n",
    "print(\"Logistic Regression - Accuracy with Count Vectorized data:\", accuracy_count_logreg)"
   ]
  },
  {
   "cell_type": "code",
   "execution_count": 48,
   "id": "7b7093f4",
   "metadata": {},
   "outputs": [],
   "source": [
    "y_pred_tfidf_svm = svm_tfidf.predict(X_test_tfidf)\n",
    "y_pred_count_svm = svm_count.predict(X_test_count)\n",
    "\n",
    "accuracy_tfidf_svm = accuracy_score(y_test, y_pred_tfidf_svm)\n",
    "accuracy_count_svm = accuracy_score(y_test, y_pred_count_svm)"
   ]
  },
  {
   "cell_type": "code",
   "execution_count": 49,
   "id": "4f24fc31",
   "metadata": {},
   "outputs": [
    {
     "name": "stdout",
     "output_type": "stream",
     "text": [
      "SVM - Accuracy with TF-IDF: 0.88\n",
      "SVM - Accuracy with Count Vectorized data: 0.86\n"
     ]
    }
   ],
   "source": [
    "print(\"SVM - Accuracy with TF-IDF:\", accuracy_tfidf_svm)\n",
    "print(\"SVM - Accuracy with Count Vectorized data:\", accuracy_count_svm)"
   ]
  },
  {
   "cell_type": "markdown",
   "id": "d01034b8",
   "metadata": {},
   "source": [
    "# 9. Plot a confusion matrix for both Logistic Regression and SVM"
   ]
  },
  {
   "cell_type": "code",
   "execution_count": 50,
   "id": "0cafb458",
   "metadata": {},
   "outputs": [],
   "source": [
    "cm_tfidf_logreg = confusion_matrix(y_test, y_pred_tfidf_logreg)\n",
    "cm_count_logreg = confusion_matrix(y_test, y_pred_count_logreg)\n",
    "cm_tfidf_svm = confusion_matrix(y_test, y_pred_tfidf_svm)\n",
    "cm_count_svm = confusion_matrix(y_test, y_pred_count_svm)"
   ]
  },
  {
   "cell_type": "code",
   "execution_count": 53,
   "id": "db7855a7",
   "metadata": {},
   "outputs": [
    {
     "data": {
      "image/png": "[encoded data removed]",
      "text/plain": [
       "<Figure size 1200x1000 with 8 Axes>"
      ]
     },
     "metadata": {},
     "output_type": "display_data"
    }
   ],
   "source": [
    "fig, axes = plt.subplots(2, 2, figsize=(12, 10))\n",
    "\n",
    "sns.heatmap(cm_tfidf_logreg, annot=True, fmt=\"d\", cmap=\"Blues\", ax=axes[0, 0])\n",
    "axes[0, 0].set_title(\"LogReg TF-IDF Confusion Matrix\")\n",
    "axes[0, 0].set_xlabel(\"Predicted\")\n",
    "axes[0, 0].set_ylabel(\"Actual\")\n",
    "\n",
    "sns.heatmap(cm_count_logreg, annot=True, fmt=\"d\", cmap=\"Blues\", ax=axes[0, 1])\n",
    "axes[0, 1].set_title(\"LogReg Count Vectorized Confusion Matrix\")\n",
    "axes[0, 1].set_xlabel(\"Predicted\")\n",
    "axes[0, 1].set_ylabel(\"Actual\")\n",
    "\n",
    "sns.heatmap(cm_tfidf_svm, annot=True, fmt=\"d\", cmap=\"Greens\", ax=axes[1, 0])\n",
    "axes[1, 0].set_title(\"SVM TF-IDF Confusion Matrix\")\n",
    "axes[1, 0].set_xlabel(\"Predicted\")\n",
    "axes[1, 0].set_ylabel(\"Actual\")\n",
    "\n",
    "sns.heatmap(cm_count_svm, annot=True, fmt=\"d\", cmap=\"Greens\", ax=axes[1, 1])\n",
    "axes[1, 1].set_title(\"SVM Count Vectorized Confusion Matrix\")\n",
    "axes[1, 1].set_xlabel(\"Predicted\")\n",
    "axes[1, 1].set_ylabel(\"Actual\")\n",
    "\n",
    "plt.tight_layout()\n",
    "plt.show()"
   ]
  }
 ],
 "metadata": {
  "kernelspec": {
   "display_name": "Python 3 (ipykernel)",
   "language": "python",
   "name": "python3"
  },
  "language_info": {
   "codemirror_mode": {
    "name": "ipython",
    "version": 3
   },
   "file_extension": ".py",
   "mimetype": "text/x-python",
   "name": "python",
   "nbconvert_exporter": "python",
   "pygments_lexer": "ipython3",
   "version": "3.11.3"
  }
 },
 "nbformat": 4,
 "nbformat_minor": 5
}
